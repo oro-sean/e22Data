{
 "cells": [
  {
   "cell_type": "code",
   "execution_count": 9,
   "metadata": {
    "trusted": false
   },
   "outputs": [],
   "source": [
    "import pandas as pd\n",
    "from datetime import datetime\n",
    "import os\n"
   ]
  },
  {
   "cell_type": "code",
   "execution_count": 5,
   "metadata": {
    "pycharm": {
     "name": "#%%\n"
    },
    "trusted": false
   },
   "outputs": [],
   "source": [
    "job = '220510-LR-mayTesting'\n",
    "directory = 'H:\\\\9.0 Data Jobs\\\\' +job+'all_csv_data\\\\' # define directory\n",
    "out_dir = '/mnt/home/9.0 Data Jobs/'+job+'/all_csv_data/'"
   ]
  },
  {
   "cell_type": "code",
   "execution_count": 48,
   "outputs": [],
   "source": [
    "directory = os.path.join(\"H:\",\"9.0 Data Jobs\",job,\"all_csv_data\")\n",
    "out_dir = os.path.join(\"H:\",\"9.0 Data Jobs\",job,\"all_csv_data\")"
   ],
   "metadata": {
    "collapsed": false,
    "pycharm": {
     "name": "#%%\n"
    }
   }
  },
  {
   "cell_type": "code",
   "execution_count": 101,
   "metadata": {
    "trusted": false
   },
   "outputs": [],
   "source": [
    "sailmon_fileName = '2022-05-07-mr-pb.csv'\n",
    "sailmon = pd.read_csv(os.path.join(directory,sailmon_fileName), index_col=False)\n",
    "sailmon.rename(columns={'time': 'timeStamp'}, inplace=True)\n",
    "sailmon['timeStamp'] = pd.to_datetime(sailmon.timeStamp, format=\"%Y-%m-%d %H:%M:%S\").dt.round('1s')"
   ]
  },
  {
   "cell_type": "code",
   "execution_count": 102,
   "metadata": {
    "trusted": false
   },
   "outputs": [
    {
     "name": "stdout",
     "output_type": "stream",
     "text": [
      "The first timestamp is  2022-05-06 23:05:51\n",
      "The Final Time Stamp is  2022-05-07 01:35:22\n"
     ]
    }
   ],
   "source": [
    "ts_timeStart = sailmon.timeStamp[0]\n",
    "ts_timeEnd = list(sailmon.timeStamp)[-1]\n",
    "print(\"The first timestamp is \", ts_timeStart)\n",
    "print(\"The Final Time Stamp is \", ts_timeEnd)"
   ]
  },
  {
   "cell_type": "code",
   "execution_count": 103,
   "outputs": [],
   "source": [
    "\n",
    "try:\n",
    "    ts_correct = datetime.strptime(input(\"Please enter what first time stamp should read\"), '%Y-%m-%d %H:%M:%S')\n",
    "\n",
    "except:\n",
    "    ts_correct = ts_time\n",
    "\n",
    "ts_delta = ts_correct - ts_timeStart"
   ],
   "metadata": {
    "collapsed": false,
    "pycharm": {
     "name": "#%%\n"
    }
   }
  },
  {
   "cell_type": "code",
   "execution_count": 104,
   "metadata": {
    "trusted": false
   },
   "outputs": [
    {
     "data": {
      "text/plain": "Timedelta('0 days 10:00:00')"
     },
     "execution_count": 104,
     "metadata": {},
     "output_type": "execute_result"
    }
   ],
   "source": [
    "ts_delta"
   ]
  },
  {
   "cell_type": "code",
   "execution_count": 105,
   "metadata": {
    "trusted": false
   },
   "outputs": [],
   "source": [
    "sailmon['timeStamp'] = sailmon.timeStamp+ts_delta"
   ]
  },
  {
   "cell_type": "code",
   "execution_count": 106,
   "metadata": {
    "trusted": false
   },
   "outputs": [
    {
     "name": "stdout",
     "output_type": "stream",
     "text": [
      "The first timestamp is  2022-05-07 09:05:51\n",
      "The Final Time Stamp is  2022-05-07 11:35:22\n"
     ]
    }
   ],
   "source": [
    "ts_timeStart = sailmon.timeStamp[0]\n",
    "ts_timeEnd = list(sailmon.timeStamp)[-1]\n",
    "print(\"The first timestamp is \", ts_timeStart)\n",
    "print(\"The Final Time Stamp is \", ts_timeEnd)"
   ]
  },
  {
   "cell_type": "code",
   "execution_count": 107,
   "metadata": {
    "trusted": false
   },
   "outputs": [
    {
     "data": {
      "text/plain": "               timeStamp   latitude   longitude     speed  HDT - Heading True  \\\n0    2022-05-07 09:05:51 -33.847310  151.220446  0.170147              251.87   \n1    2022-05-07 09:05:52 -33.847309  151.220405  0.314067              250.14   \n2    2022-05-07 09:05:53 -33.847311  151.220382  0.431198              250.27   \n3    2022-05-07 09:06:07 -33.847221  151.220215  1.232110              330.89   \n4    2022-05-07 09:06:08 -33.847327  151.219893  1.085690              334.25   \n...                  ...        ...         ...       ...                 ...   \n8954 2022-05-07 11:35:18 -33.847696  151.220158  0.041627              187.33   \n8955 2022-05-07 11:35:19 -33.847696  151.220158  0.053823              187.23   \n8956 2022-05-07 11:35:20 -33.847696  151.220158  0.044265              187.22   \n8957 2022-05-07 11:35:21 -33.847696  151.220158  0.041752              187.82   \n8958 2022-05-07 11:35:22 -33.847696  151.220158  0.050318              188.36   \n\n      SOG - Speed over Ground  COG - Course over Ground  Heel  \\\n0                    0.170147                    252.17  1.80   \n1                    0.314067                    250.23  1.71   \n2                    0.431198                    250.27  1.81   \n3                    1.232114                    332.86 -7.16   \n4                    1.085686                    334.12 -7.77   \n...                       ...                       ...   ...   \n8954                 0.041627                    187.27  0.21   \n8955                 0.053823                    187.28 -0.23   \n8956                 0.044265                    187.22 -1.36   \n8957                 0.041752                    187.75 -0.37   \n8958                 0.050318                    188.32 -0.16   \n\n      Trim Fore / Aft  GPS Satellites  GPS HAcc  \n0               16.55               3   10.9700  \n1               16.85               3    9.7970  \n2               17.04               3    8.9140  \n3               -2.61               5   15.4100  \n4               -3.09               7    3.9960  \n...               ...             ...       ...  \n8954             2.70              16    0.5117  \n8955             3.03              16    0.5146  \n8956             3.03              15    0.5166  \n8957             3.04              16    0.5137  \n8958             2.66              16    0.5127  \n\n[8959 rows x 11 columns]",
      "text/html": "<div>\n<style scoped>\n    .dataframe tbody tr th:only-of-type {\n        vertical-align: middle;\n    }\n\n    .dataframe tbody tr th {\n        vertical-align: top;\n    }\n\n    .dataframe thead th {\n        text-align: right;\n    }\n</style>\n<table border=\"1\" class=\"dataframe\">\n  <thead>\n    <tr style=\"text-align: right;\">\n      <th></th>\n      <th>timeStamp</th>\n      <th>latitude</th>\n      <th>longitude</th>\n      <th>speed</th>\n      <th>HDT - Heading True</th>\n      <th>SOG - Speed over Ground</th>\n      <th>COG - Course over Ground</th>\n      <th>Heel</th>\n      <th>Trim Fore / Aft</th>\n      <th>GPS Satellites</th>\n      <th>GPS HAcc</th>\n    </tr>\n  </thead>\n  <tbody>\n    <tr>\n      <th>0</th>\n      <td>2022-05-07 09:05:51</td>\n      <td>-33.847310</td>\n      <td>151.220446</td>\n      <td>0.170147</td>\n      <td>251.87</td>\n      <td>0.170147</td>\n      <td>252.17</td>\n      <td>1.80</td>\n      <td>16.55</td>\n      <td>3</td>\n      <td>10.9700</td>\n    </tr>\n    <tr>\n      <th>1</th>\n      <td>2022-05-07 09:05:52</td>\n      <td>-33.847309</td>\n      <td>151.220405</td>\n      <td>0.314067</td>\n      <td>250.14</td>\n      <td>0.314067</td>\n      <td>250.23</td>\n      <td>1.71</td>\n      <td>16.85</td>\n      <td>3</td>\n      <td>9.7970</td>\n    </tr>\n    <tr>\n      <th>2</th>\n      <td>2022-05-07 09:05:53</td>\n      <td>-33.847311</td>\n      <td>151.220382</td>\n      <td>0.431198</td>\n      <td>250.27</td>\n      <td>0.431198</td>\n      <td>250.27</td>\n      <td>1.81</td>\n      <td>17.04</td>\n      <td>3</td>\n      <td>8.9140</td>\n    </tr>\n    <tr>\n      <th>3</th>\n      <td>2022-05-07 09:06:07</td>\n      <td>-33.847221</td>\n      <td>151.220215</td>\n      <td>1.232110</td>\n      <td>330.89</td>\n      <td>1.232114</td>\n      <td>332.86</td>\n      <td>-7.16</td>\n      <td>-2.61</td>\n      <td>5</td>\n      <td>15.4100</td>\n    </tr>\n    <tr>\n      <th>4</th>\n      <td>2022-05-07 09:06:08</td>\n      <td>-33.847327</td>\n      <td>151.219893</td>\n      <td>1.085690</td>\n      <td>334.25</td>\n      <td>1.085686</td>\n      <td>334.12</td>\n      <td>-7.77</td>\n      <td>-3.09</td>\n      <td>7</td>\n      <td>3.9960</td>\n    </tr>\n    <tr>\n      <th>...</th>\n      <td>...</td>\n      <td>...</td>\n      <td>...</td>\n      <td>...</td>\n      <td>...</td>\n      <td>...</td>\n      <td>...</td>\n      <td>...</td>\n      <td>...</td>\n      <td>...</td>\n      <td>...</td>\n    </tr>\n    <tr>\n      <th>8954</th>\n      <td>2022-05-07 11:35:18</td>\n      <td>-33.847696</td>\n      <td>151.220158</td>\n      <td>0.041627</td>\n      <td>187.33</td>\n      <td>0.041627</td>\n      <td>187.27</td>\n      <td>0.21</td>\n      <td>2.70</td>\n      <td>16</td>\n      <td>0.5117</td>\n    </tr>\n    <tr>\n      <th>8955</th>\n      <td>2022-05-07 11:35:19</td>\n      <td>-33.847696</td>\n      <td>151.220158</td>\n      <td>0.053823</td>\n      <td>187.23</td>\n      <td>0.053823</td>\n      <td>187.28</td>\n      <td>-0.23</td>\n      <td>3.03</td>\n      <td>16</td>\n      <td>0.5146</td>\n    </tr>\n    <tr>\n      <th>8956</th>\n      <td>2022-05-07 11:35:20</td>\n      <td>-33.847696</td>\n      <td>151.220158</td>\n      <td>0.044265</td>\n      <td>187.22</td>\n      <td>0.044265</td>\n      <td>187.22</td>\n      <td>-1.36</td>\n      <td>3.03</td>\n      <td>15</td>\n      <td>0.5166</td>\n    </tr>\n    <tr>\n      <th>8957</th>\n      <td>2022-05-07 11:35:21</td>\n      <td>-33.847696</td>\n      <td>151.220158</td>\n      <td>0.041752</td>\n      <td>187.82</td>\n      <td>0.041752</td>\n      <td>187.75</td>\n      <td>-0.37</td>\n      <td>3.04</td>\n      <td>16</td>\n      <td>0.5137</td>\n    </tr>\n    <tr>\n      <th>8958</th>\n      <td>2022-05-07 11:35:22</td>\n      <td>-33.847696</td>\n      <td>151.220158</td>\n      <td>0.050318</td>\n      <td>188.36</td>\n      <td>0.050318</td>\n      <td>188.32</td>\n      <td>-0.16</td>\n      <td>2.66</td>\n      <td>16</td>\n      <td>0.5127</td>\n    </tr>\n  </tbody>\n</table>\n<p>8959 rows × 11 columns</p>\n</div>"
     },
     "execution_count": 107,
     "metadata": {},
     "output_type": "execute_result"
    }
   ],
   "source": [
    "sailmon"
   ]
  },
  {
   "cell_type": "code",
   "execution_count": 108,
   "metadata": {
    "trusted": false
   },
   "outputs": [],
   "source": [
    "allData = pd.DataFrame(data = sailmon[['timeStamp', 'latitude', 'longitude', 'speed', 'HDT - Heading True', 'COG - Course over Ground', 'Heel']])"
   ]
  },
  {
   "cell_type": "code",
   "execution_count": 109,
   "metadata": {
    "trusted": false
   },
   "outputs": [
    {
     "data": {
      "text/plain": "               timeStamp   latitude   longitude     speed     HDG     COG  \\\n0    2022-05-07 09:05:51 -33.847310  151.220446  0.170147  251.87  252.17   \n1    2022-05-07 09:05:52 -33.847309  151.220405  0.314067  250.14  250.23   \n2    2022-05-07 09:05:53 -33.847311  151.220382  0.431198  250.27  250.27   \n3    2022-05-07 09:06:07 -33.847221  151.220215  1.232110  330.89  332.86   \n4    2022-05-07 09:06:08 -33.847327  151.219893  1.085690  334.25  334.12   \n...                  ...        ...         ...       ...     ...     ...   \n8954 2022-05-07 11:35:18 -33.847696  151.220158  0.041627  187.33  187.27   \n8955 2022-05-07 11:35:19 -33.847696  151.220158  0.053823  187.23  187.28   \n8956 2022-05-07 11:35:20 -33.847696  151.220158  0.044265  187.22  187.22   \n8957 2022-05-07 11:35:21 -33.847696  151.220158  0.041752  187.82  187.75   \n8958 2022-05-07 11:35:22 -33.847696  151.220158  0.050318  188.36  188.32   \n\n      Heel  \n0     1.80  \n1     1.71  \n2     1.81  \n3    -7.16  \n4    -7.77  \n...    ...  \n8954  0.21  \n8955 -0.23  \n8956 -1.36  \n8957 -0.37  \n8958 -0.16  \n\n[8959 rows x 7 columns]",
      "text/html": "<div>\n<style scoped>\n    .dataframe tbody tr th:only-of-type {\n        vertical-align: middle;\n    }\n\n    .dataframe tbody tr th {\n        vertical-align: top;\n    }\n\n    .dataframe thead th {\n        text-align: right;\n    }\n</style>\n<table border=\"1\" class=\"dataframe\">\n  <thead>\n    <tr style=\"text-align: right;\">\n      <th></th>\n      <th>timeStamp</th>\n      <th>latitude</th>\n      <th>longitude</th>\n      <th>speed</th>\n      <th>HDG</th>\n      <th>COG</th>\n      <th>Heel</th>\n    </tr>\n  </thead>\n  <tbody>\n    <tr>\n      <th>0</th>\n      <td>2022-05-07 09:05:51</td>\n      <td>-33.847310</td>\n      <td>151.220446</td>\n      <td>0.170147</td>\n      <td>251.87</td>\n      <td>252.17</td>\n      <td>1.80</td>\n    </tr>\n    <tr>\n      <th>1</th>\n      <td>2022-05-07 09:05:52</td>\n      <td>-33.847309</td>\n      <td>151.220405</td>\n      <td>0.314067</td>\n      <td>250.14</td>\n      <td>250.23</td>\n      <td>1.71</td>\n    </tr>\n    <tr>\n      <th>2</th>\n      <td>2022-05-07 09:05:53</td>\n      <td>-33.847311</td>\n      <td>151.220382</td>\n      <td>0.431198</td>\n      <td>250.27</td>\n      <td>250.27</td>\n      <td>1.81</td>\n    </tr>\n    <tr>\n      <th>3</th>\n      <td>2022-05-07 09:06:07</td>\n      <td>-33.847221</td>\n      <td>151.220215</td>\n      <td>1.232110</td>\n      <td>330.89</td>\n      <td>332.86</td>\n      <td>-7.16</td>\n    </tr>\n    <tr>\n      <th>4</th>\n      <td>2022-05-07 09:06:08</td>\n      <td>-33.847327</td>\n      <td>151.219893</td>\n      <td>1.085690</td>\n      <td>334.25</td>\n      <td>334.12</td>\n      <td>-7.77</td>\n    </tr>\n    <tr>\n      <th>...</th>\n      <td>...</td>\n      <td>...</td>\n      <td>...</td>\n      <td>...</td>\n      <td>...</td>\n      <td>...</td>\n      <td>...</td>\n    </tr>\n    <tr>\n      <th>8954</th>\n      <td>2022-05-07 11:35:18</td>\n      <td>-33.847696</td>\n      <td>151.220158</td>\n      <td>0.041627</td>\n      <td>187.33</td>\n      <td>187.27</td>\n      <td>0.21</td>\n    </tr>\n    <tr>\n      <th>8955</th>\n      <td>2022-05-07 11:35:19</td>\n      <td>-33.847696</td>\n      <td>151.220158</td>\n      <td>0.053823</td>\n      <td>187.23</td>\n      <td>187.28</td>\n      <td>-0.23</td>\n    </tr>\n    <tr>\n      <th>8956</th>\n      <td>2022-05-07 11:35:20</td>\n      <td>-33.847696</td>\n      <td>151.220158</td>\n      <td>0.044265</td>\n      <td>187.22</td>\n      <td>187.22</td>\n      <td>-1.36</td>\n    </tr>\n    <tr>\n      <th>8957</th>\n      <td>2022-05-07 11:35:21</td>\n      <td>-33.847696</td>\n      <td>151.220158</td>\n      <td>0.041752</td>\n      <td>187.82</td>\n      <td>187.75</td>\n      <td>-0.37</td>\n    </tr>\n    <tr>\n      <th>8958</th>\n      <td>2022-05-07 11:35:22</td>\n      <td>-33.847696</td>\n      <td>151.220158</td>\n      <td>0.050318</td>\n      <td>188.36</td>\n      <td>188.32</td>\n      <td>-0.16</td>\n    </tr>\n  </tbody>\n</table>\n<p>8959 rows × 7 columns</p>\n</div>"
     },
     "execution_count": 109,
     "metadata": {},
     "output_type": "execute_result"
    }
   ],
   "source": [
    "allData.rename(columns = {'HDT - Heading True': 'HDG','COG - Course over Ground': 'COG' }, inplace=True)\n",
    "allData"
   ]
  },
  {
   "cell_type": "code",
   "execution_count": 110,
   "metadata": {
    "pycharm": {
     "name": "#%%\n"
    },
    "trusted": false
   },
   "outputs": [
    {
     "data": {
      "text/plain": "                 timeStamp    measure\n252.0  2022-05-07 09:05:04  12.007387\n7699.0 2022-05-07 09:05:05  10.757359\n1688.0 2022-05-07 09:05:06  10.729963\n6323.0 2022-05-07 09:05:07   9.329254\n6070.0 2022-05-07 09:05:08   8.134018\n...                    ...        ...\n506.0  2022-05-07 11:26:38  -0.383308\n3981.0 2022-05-07 11:26:39  -0.355912\n3778.0 2022-05-07 11:26:40  -3.364547\n2617.0 2022-05-07 11:26:41  -0.410705\n7097.0 2022-05-07 11:26:59  -0.397006\n\n[7027 rows x 2 columns]",
      "text/html": "<div>\n<style scoped>\n    .dataframe tbody tr th:only-of-type {\n        vertical-align: middle;\n    }\n\n    .dataframe tbody tr th {\n        vertical-align: top;\n    }\n\n    .dataframe thead th {\n        text-align: right;\n    }\n</style>\n<table border=\"1\" class=\"dataframe\">\n  <thead>\n    <tr style=\"text-align: right;\">\n      <th></th>\n      <th>timeStamp</th>\n      <th>measure</th>\n    </tr>\n  </thead>\n  <tbody>\n    <tr>\n      <th>252.0</th>\n      <td>2022-05-07 09:05:04</td>\n      <td>12.007387</td>\n    </tr>\n    <tr>\n      <th>7699.0</th>\n      <td>2022-05-07 09:05:05</td>\n      <td>10.757359</td>\n    </tr>\n    <tr>\n      <th>1688.0</th>\n      <td>2022-05-07 09:05:06</td>\n      <td>10.729963</td>\n    </tr>\n    <tr>\n      <th>6323.0</th>\n      <td>2022-05-07 09:05:07</td>\n      <td>9.329254</td>\n    </tr>\n    <tr>\n      <th>6070.0</th>\n      <td>2022-05-07 09:05:08</td>\n      <td>8.134018</td>\n    </tr>\n    <tr>\n      <th>...</th>\n      <td>...</td>\n      <td>...</td>\n    </tr>\n    <tr>\n      <th>506.0</th>\n      <td>2022-05-07 11:26:38</td>\n      <td>-0.383308</td>\n    </tr>\n    <tr>\n      <th>3981.0</th>\n      <td>2022-05-07 11:26:39</td>\n      <td>-0.355912</td>\n    </tr>\n    <tr>\n      <th>3778.0</th>\n      <td>2022-05-07 11:26:40</td>\n      <td>-3.364547</td>\n    </tr>\n    <tr>\n      <th>2617.0</th>\n      <td>2022-05-07 11:26:41</td>\n      <td>-0.410705</td>\n    </tr>\n    <tr>\n      <th>7097.0</th>\n      <td>2022-05-07 11:26:59</td>\n      <td>-0.397006</td>\n    </tr>\n  </tbody>\n</table>\n<p>7027 rows × 2 columns</p>\n</div>"
     },
     "execution_count": 110,
     "metadata": {},
     "output_type": "execute_result"
    }
   ],
   "source": [
    "vSp_fileName = 'vSp_gp+220507.csv'\n",
    "gate = pd.read_csv(os.path.join(directory,vSp_fileName), index_col=0)\n",
    "gate['timeStamp'] = pd.to_datetime(gate['timeStamp'], format = \"%Y:%m:%d %H:%M:%S\")\n",
    "gate.drop(columns = ['Dot', 'Count', 'file'], inplace = True)\n",
    "gate"
   ]
  },
  {
   "cell_type": "code",
   "execution_count": 111,
   "metadata": {
    "trusted": false
   },
   "outputs": [],
   "source": [
    "allData = allData.merge(gate, how = 'left', left_on='timeStamp', right_on='timeStamp')\n",
    "allData.rename(columns = {'measure': 'mastGate'}, inplace = True)"
   ]
  },
  {
   "cell_type": "code",
   "execution_count": 112,
   "metadata": {
    "trusted": false
   },
   "outputs": [
    {
     "data": {
      "text/plain": "               timeStamp   latitude   longitude     speed     HDG     COG  \\\n0    2022-05-07 09:05:51 -33.847310  151.220446  0.170147  251.87  252.17   \n1    2022-05-07 09:05:52 -33.847309  151.220405  0.314067  250.14  250.23   \n2    2022-05-07 09:05:53 -33.847311  151.220382  0.431198  250.27  250.27   \n3    2022-05-07 09:06:07 -33.847221  151.220215  1.232110  330.89  332.86   \n4    2022-05-07 09:06:08 -33.847327  151.219893  1.085690  334.25  334.12   \n...                  ...        ...         ...       ...     ...     ...   \n8961 2022-05-07 11:35:18 -33.847696  151.220158  0.041627  187.33  187.27   \n8962 2022-05-07 11:35:19 -33.847696  151.220158  0.053823  187.23  187.28   \n8963 2022-05-07 11:35:20 -33.847696  151.220158  0.044265  187.22  187.22   \n8964 2022-05-07 11:35:21 -33.847696  151.220158  0.041752  187.82  187.75   \n8965 2022-05-07 11:35:22 -33.847696  151.220158  0.050318  188.36  188.32   \n\n      Heel   mastGate  \n0     1.80  13.353304  \n1     1.71  16.678742  \n2     1.81  12.212862  \n3    -7.16  13.216321  \n4    -7.77  13.230019  \n...    ...        ...  \n8961  0.21        NaN  \n8962 -0.23        NaN  \n8963 -1.36        NaN  \n8964 -0.37        NaN  \n8965 -0.16        NaN  \n\n[8966 rows x 8 columns]",
      "text/html": "<div>\n<style scoped>\n    .dataframe tbody tr th:only-of-type {\n        vertical-align: middle;\n    }\n\n    .dataframe tbody tr th {\n        vertical-align: top;\n    }\n\n    .dataframe thead th {\n        text-align: right;\n    }\n</style>\n<table border=\"1\" class=\"dataframe\">\n  <thead>\n    <tr style=\"text-align: right;\">\n      <th></th>\n      <th>timeStamp</th>\n      <th>latitude</th>\n      <th>longitude</th>\n      <th>speed</th>\n      <th>HDG</th>\n      <th>COG</th>\n      <th>Heel</th>\n      <th>mastGate</th>\n    </tr>\n  </thead>\n  <tbody>\n    <tr>\n      <th>0</th>\n      <td>2022-05-07 09:05:51</td>\n      <td>-33.847310</td>\n      <td>151.220446</td>\n      <td>0.170147</td>\n      <td>251.87</td>\n      <td>252.17</td>\n      <td>1.80</td>\n      <td>13.353304</td>\n    </tr>\n    <tr>\n      <th>1</th>\n      <td>2022-05-07 09:05:52</td>\n      <td>-33.847309</td>\n      <td>151.220405</td>\n      <td>0.314067</td>\n      <td>250.14</td>\n      <td>250.23</td>\n      <td>1.71</td>\n      <td>16.678742</td>\n    </tr>\n    <tr>\n      <th>2</th>\n      <td>2022-05-07 09:05:53</td>\n      <td>-33.847311</td>\n      <td>151.220382</td>\n      <td>0.431198</td>\n      <td>250.27</td>\n      <td>250.27</td>\n      <td>1.81</td>\n      <td>12.212862</td>\n    </tr>\n    <tr>\n      <th>3</th>\n      <td>2022-05-07 09:06:07</td>\n      <td>-33.847221</td>\n      <td>151.220215</td>\n      <td>1.232110</td>\n      <td>330.89</td>\n      <td>332.86</td>\n      <td>-7.16</td>\n      <td>13.216321</td>\n    </tr>\n    <tr>\n      <th>4</th>\n      <td>2022-05-07 09:06:08</td>\n      <td>-33.847327</td>\n      <td>151.219893</td>\n      <td>1.085690</td>\n      <td>334.25</td>\n      <td>334.12</td>\n      <td>-7.77</td>\n      <td>13.230019</td>\n    </tr>\n    <tr>\n      <th>...</th>\n      <td>...</td>\n      <td>...</td>\n      <td>...</td>\n      <td>...</td>\n      <td>...</td>\n      <td>...</td>\n      <td>...</td>\n      <td>...</td>\n    </tr>\n    <tr>\n      <th>8961</th>\n      <td>2022-05-07 11:35:18</td>\n      <td>-33.847696</td>\n      <td>151.220158</td>\n      <td>0.041627</td>\n      <td>187.33</td>\n      <td>187.27</td>\n      <td>0.21</td>\n      <td>NaN</td>\n    </tr>\n    <tr>\n      <th>8962</th>\n      <td>2022-05-07 11:35:19</td>\n      <td>-33.847696</td>\n      <td>151.220158</td>\n      <td>0.053823</td>\n      <td>187.23</td>\n      <td>187.28</td>\n      <td>-0.23</td>\n      <td>NaN</td>\n    </tr>\n    <tr>\n      <th>8963</th>\n      <td>2022-05-07 11:35:20</td>\n      <td>-33.847696</td>\n      <td>151.220158</td>\n      <td>0.044265</td>\n      <td>187.22</td>\n      <td>187.22</td>\n      <td>-1.36</td>\n      <td>NaN</td>\n    </tr>\n    <tr>\n      <th>8964</th>\n      <td>2022-05-07 11:35:21</td>\n      <td>-33.847696</td>\n      <td>151.220158</td>\n      <td>0.041752</td>\n      <td>187.82</td>\n      <td>187.75</td>\n      <td>-0.37</td>\n      <td>NaN</td>\n    </tr>\n    <tr>\n      <th>8965</th>\n      <td>2022-05-07 11:35:22</td>\n      <td>-33.847696</td>\n      <td>151.220158</td>\n      <td>0.050318</td>\n      <td>188.36</td>\n      <td>188.32</td>\n      <td>-0.16</td>\n      <td>NaN</td>\n    </tr>\n  </tbody>\n</table>\n<p>8966 rows × 8 columns</p>\n</div>"
     },
     "execution_count": 112,
     "metadata": {},
     "output_type": "execute_result"
    }
   ],
   "source": [
    "allData"
   ]
  },
  {
   "cell_type": "code",
   "execution_count": 113,
   "metadata": {
    "trusted": false
   },
   "outputs": [],
   "source": [
    "loads_fileName = 'Lisa rose 7may.csv'\n",
    "loadcells = pd.read_csv(os.path.join(directory,loads_fileName), index_col=False)\n",
    "loadcells.rename(columns={'Timestamp': 'timeStamp'}, inplace=True)\n",
    "loadcells['timeStamp'] = pd.to_datetime(loadcells.timeStamp, format=\"%Y-%m-%d %H:%M:%S\").dt.round('1s')\n",
    "loadcells['Mainsheet'] = 2*loadcells.Mainsheet\n",
    "loadcells['Backstay'] = 2*loadcells.Backstay\n",
    "loadcells.drop(columns =[' Latitude', ' Longitude', ' Heading'], inplace = True)"
   ]
  },
  {
   "cell_type": "code",
   "execution_count": 114,
   "metadata": {
    "pycharm": {
     "name": "#%%\n"
    },
    "trusted": false
   },
   "outputs": [
    {
     "data": {
      "text/plain": "               timeStamp  Backstay  Forestay  Mainsheet\n0    2022-05-07 09:03:19       NaN       NaN        NaN\n1    2022-05-07 09:03:20      52.0      81.0        0.0\n2    2022-05-07 09:03:21      52.0      81.0        0.0\n3    2022-05-07 09:03:22      52.0      81.0        0.0\n4    2022-05-07 09:03:23      52.0      81.0        0.0\n...                  ...       ...       ...        ...\n8416 2022-05-07 11:23:35     104.0     224.0        0.0\n8417 2022-05-07 11:23:36     104.0     218.0        0.0\n8418 2022-05-07 11:23:37     104.0     218.0        0.0\n8419 2022-05-07 11:23:38     104.0     222.0        0.0\n8420 2022-05-07 11:23:39     104.0     222.0        0.0\n\n[8421 rows x 4 columns]",
      "text/html": "<div>\n<style scoped>\n    .dataframe tbody tr th:only-of-type {\n        vertical-align: middle;\n    }\n\n    .dataframe tbody tr th {\n        vertical-align: top;\n    }\n\n    .dataframe thead th {\n        text-align: right;\n    }\n</style>\n<table border=\"1\" class=\"dataframe\">\n  <thead>\n    <tr style=\"text-align: right;\">\n      <th></th>\n      <th>timeStamp</th>\n      <th>Backstay</th>\n      <th>Forestay</th>\n      <th>Mainsheet</th>\n    </tr>\n  </thead>\n  <tbody>\n    <tr>\n      <th>0</th>\n      <td>2022-05-07 09:03:19</td>\n      <td>NaN</td>\n      <td>NaN</td>\n      <td>NaN</td>\n    </tr>\n    <tr>\n      <th>1</th>\n      <td>2022-05-07 09:03:20</td>\n      <td>52.0</td>\n      <td>81.0</td>\n      <td>0.0</td>\n    </tr>\n    <tr>\n      <th>2</th>\n      <td>2022-05-07 09:03:21</td>\n      <td>52.0</td>\n      <td>81.0</td>\n      <td>0.0</td>\n    </tr>\n    <tr>\n      <th>3</th>\n      <td>2022-05-07 09:03:22</td>\n      <td>52.0</td>\n      <td>81.0</td>\n      <td>0.0</td>\n    </tr>\n    <tr>\n      <th>4</th>\n      <td>2022-05-07 09:03:23</td>\n      <td>52.0</td>\n      <td>81.0</td>\n      <td>0.0</td>\n    </tr>\n    <tr>\n      <th>...</th>\n      <td>...</td>\n      <td>...</td>\n      <td>...</td>\n      <td>...</td>\n    </tr>\n    <tr>\n      <th>8416</th>\n      <td>2022-05-07 11:23:35</td>\n      <td>104.0</td>\n      <td>224.0</td>\n      <td>0.0</td>\n    </tr>\n    <tr>\n      <th>8417</th>\n      <td>2022-05-07 11:23:36</td>\n      <td>104.0</td>\n      <td>218.0</td>\n      <td>0.0</td>\n    </tr>\n    <tr>\n      <th>8418</th>\n      <td>2022-05-07 11:23:37</td>\n      <td>104.0</td>\n      <td>218.0</td>\n      <td>0.0</td>\n    </tr>\n    <tr>\n      <th>8419</th>\n      <td>2022-05-07 11:23:38</td>\n      <td>104.0</td>\n      <td>222.0</td>\n      <td>0.0</td>\n    </tr>\n    <tr>\n      <th>8420</th>\n      <td>2022-05-07 11:23:39</td>\n      <td>104.0</td>\n      <td>222.0</td>\n      <td>0.0</td>\n    </tr>\n  </tbody>\n</table>\n<p>8421 rows × 4 columns</p>\n</div>"
     },
     "execution_count": 114,
     "metadata": {},
     "output_type": "execute_result"
    }
   ],
   "source": [
    "loadcells"
   ]
  },
  {
   "cell_type": "code",
   "execution_count": 115,
   "metadata": {
    "trusted": false
   },
   "outputs": [],
   "source": [
    "allData = allData.merge(loadcells, how = 'left', left_on='timeStamp', right_on='timeStamp')"
   ]
  },
  {
   "cell_type": "code",
   "execution_count": 116,
   "metadata": {
    "pycharm": {
     "name": "#%%\n"
    },
    "trusted": false
   },
   "outputs": [],
   "source": [
    "allData.rename(columns={'timeStamp': 'time'}, inplace=True)"
   ]
  },
  {
   "cell_type": "code",
   "execution_count": 120,
   "metadata": {
    "trusted": false
   },
   "outputs": [
    {
     "data": {
      "text/plain": "                    time   latitude   longitude     speed     HDG     COG  \\\n0    2022-05-07 09:05:51 -33.847310  151.220446  0.170147  251.87  252.17   \n1    2022-05-07 09:05:52 -33.847309  151.220405  0.314067  250.14  250.23   \n2    2022-05-07 09:05:53 -33.847311  151.220382  0.431198  250.27  250.27   \n3    2022-05-07 09:06:07 -33.847221  151.220215  1.232110  330.89  332.86   \n4    2022-05-07 09:06:08 -33.847327  151.219893  1.085690  334.25  334.12   \n...                  ...        ...         ...       ...     ...     ...   \n8961 2022-05-07 11:35:18 -33.847696  151.220158  0.041627  187.33  187.27   \n8962 2022-05-07 11:35:19 -33.847696  151.220158  0.053823  187.23  187.28   \n8963 2022-05-07 11:35:20 -33.847696  151.220158  0.044265  187.22  187.22   \n8964 2022-05-07 11:35:21 -33.847696  151.220158  0.041752  187.82  187.75   \n8965 2022-05-07 11:35:22 -33.847696  151.220158  0.050318  188.36  188.32   \n\n      Heel   mastGate  Backstay  Forestay  Mainsheet  \n0     1.80  13.353304      54.0      79.0        0.0  \n1     1.71  16.678742      54.0      79.0        0.0  \n2     1.81  12.212862      52.0      71.0        0.0  \n3    -7.16  13.216321       0.0      81.0        0.0  \n4    -7.77  13.230019       0.0      81.0        0.0  \n...    ...        ...       ...       ...        ...  \n8961  0.21        NaN       NaN       NaN        NaN  \n8962 -0.23        NaN       NaN       NaN        NaN  \n8963 -1.36        NaN       NaN       NaN        NaN  \n8964 -0.37        NaN       NaN       NaN        NaN  \n8965 -0.16        NaN       NaN       NaN        NaN  \n\n[8966 rows x 11 columns]",
      "text/html": "<div>\n<style scoped>\n    .dataframe tbody tr th:only-of-type {\n        vertical-align: middle;\n    }\n\n    .dataframe tbody tr th {\n        vertical-align: top;\n    }\n\n    .dataframe thead th {\n        text-align: right;\n    }\n</style>\n<table border=\"1\" class=\"dataframe\">\n  <thead>\n    <tr style=\"text-align: right;\">\n      <th></th>\n      <th>time</th>\n      <th>latitude</th>\n      <th>longitude</th>\n      <th>speed</th>\n      <th>HDG</th>\n      <th>COG</th>\n      <th>Heel</th>\n      <th>mastGate</th>\n      <th>Backstay</th>\n      <th>Forestay</th>\n      <th>Mainsheet</th>\n    </tr>\n  </thead>\n  <tbody>\n    <tr>\n      <th>0</th>\n      <td>2022-05-07 09:05:51</td>\n      <td>-33.847310</td>\n      <td>151.220446</td>\n      <td>0.170147</td>\n      <td>251.87</td>\n      <td>252.17</td>\n      <td>1.80</td>\n      <td>13.353304</td>\n      <td>54.0</td>\n      <td>79.0</td>\n      <td>0.0</td>\n    </tr>\n    <tr>\n      <th>1</th>\n      <td>2022-05-07 09:05:52</td>\n      <td>-33.847309</td>\n      <td>151.220405</td>\n      <td>0.314067</td>\n      <td>250.14</td>\n      <td>250.23</td>\n      <td>1.71</td>\n      <td>16.678742</td>\n      <td>54.0</td>\n      <td>79.0</td>\n      <td>0.0</td>\n    </tr>\n    <tr>\n      <th>2</th>\n      <td>2022-05-07 09:05:53</td>\n      <td>-33.847311</td>\n      <td>151.220382</td>\n      <td>0.431198</td>\n      <td>250.27</td>\n      <td>250.27</td>\n      <td>1.81</td>\n      <td>12.212862</td>\n      <td>52.0</td>\n      <td>71.0</td>\n      <td>0.0</td>\n    </tr>\n    <tr>\n      <th>3</th>\n      <td>2022-05-07 09:06:07</td>\n      <td>-33.847221</td>\n      <td>151.220215</td>\n      <td>1.232110</td>\n      <td>330.89</td>\n      <td>332.86</td>\n      <td>-7.16</td>\n      <td>13.216321</td>\n      <td>0.0</td>\n      <td>81.0</td>\n      <td>0.0</td>\n    </tr>\n    <tr>\n      <th>4</th>\n      <td>2022-05-07 09:06:08</td>\n      <td>-33.847327</td>\n      <td>151.219893</td>\n      <td>1.085690</td>\n      <td>334.25</td>\n      <td>334.12</td>\n      <td>-7.77</td>\n      <td>13.230019</td>\n      <td>0.0</td>\n      <td>81.0</td>\n      <td>0.0</td>\n    </tr>\n    <tr>\n      <th>...</th>\n      <td>...</td>\n      <td>...</td>\n      <td>...</td>\n      <td>...</td>\n      <td>...</td>\n      <td>...</td>\n      <td>...</td>\n      <td>...</td>\n      <td>...</td>\n      <td>...</td>\n      <td>...</td>\n    </tr>\n    <tr>\n      <th>8961</th>\n      <td>2022-05-07 11:35:18</td>\n      <td>-33.847696</td>\n      <td>151.220158</td>\n      <td>0.041627</td>\n      <td>187.33</td>\n      <td>187.27</td>\n      <td>0.21</td>\n      <td>NaN</td>\n      <td>NaN</td>\n      <td>NaN</td>\n      <td>NaN</td>\n    </tr>\n    <tr>\n      <th>8962</th>\n      <td>2022-05-07 11:35:19</td>\n      <td>-33.847696</td>\n      <td>151.220158</td>\n      <td>0.053823</td>\n      <td>187.23</td>\n      <td>187.28</td>\n      <td>-0.23</td>\n      <td>NaN</td>\n      <td>NaN</td>\n      <td>NaN</td>\n      <td>NaN</td>\n    </tr>\n    <tr>\n      <th>8963</th>\n      <td>2022-05-07 11:35:20</td>\n      <td>-33.847696</td>\n      <td>151.220158</td>\n      <td>0.044265</td>\n      <td>187.22</td>\n      <td>187.22</td>\n      <td>-1.36</td>\n      <td>NaN</td>\n      <td>NaN</td>\n      <td>NaN</td>\n      <td>NaN</td>\n    </tr>\n    <tr>\n      <th>8964</th>\n      <td>2022-05-07 11:35:21</td>\n      <td>-33.847696</td>\n      <td>151.220158</td>\n      <td>0.041752</td>\n      <td>187.82</td>\n      <td>187.75</td>\n      <td>-0.37</td>\n      <td>NaN</td>\n      <td>NaN</td>\n      <td>NaN</td>\n      <td>NaN</td>\n    </tr>\n    <tr>\n      <th>8965</th>\n      <td>2022-05-07 11:35:22</td>\n      <td>-33.847696</td>\n      <td>151.220158</td>\n      <td>0.050318</td>\n      <td>188.36</td>\n      <td>188.32</td>\n      <td>-0.16</td>\n      <td>NaN</td>\n      <td>NaN</td>\n      <td>NaN</td>\n      <td>NaN</td>\n    </tr>\n  </tbody>\n</table>\n<p>8966 rows × 11 columns</p>\n</div>"
     },
     "execution_count": 120,
     "metadata": {},
     "output_type": "execute_result"
    }
   ],
   "source": [
    "allData"
   ]
  },
  {
   "cell_type": "code",
   "execution_count": 118,
   "metadata": {
    "pycharm": {
     "name": "#%%\n"
    },
    "trusted": false
   },
   "outputs": [],
   "source": [
    "allData.to_csv(os.path.join(out_dir,'allData_07.csv'))"
   ]
  }
 ],
 "metadata": {
  "kernelspec": {
   "display_name": "Python 3 (ipykernel)",
   "language": "python",
   "name": "python3"
  },
  "language_info": {
   "codemirror_mode": {
    "name": "ipython",
    "version": 3
   },
   "file_extension": ".py",
   "mimetype": "text/x-python",
   "name": "python",
   "nbconvert_exporter": "python",
   "pygments_lexer": "ipython3",
   "version": "3.10.4"
  }
 },
 "nbformat": 4,
 "nbformat_minor": 1
}