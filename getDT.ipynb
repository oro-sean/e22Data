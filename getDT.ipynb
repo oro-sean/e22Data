{
 "cells": [
  {
   "cell_type": "code",
   "execution_count": 61,
   "metadata": {},
   "outputs": [],
   "source": [
    "import pandas as pd\n",
    "from datetime import datetime\n",
    "import os\n",
    "from tkinter.filedialog import askdirectory\n",
    "import exifread as ex\n",
    "from os import listdir\n",
    "from os.path import isfile, join"
   ]
  },
  {
   "cell_type": "code",
   "execution_count": 67,
   "metadata": {
    "pycharm": {
     "name": "#%%\n"
    }
   },
   "outputs": [
    {
     "name": "stdout",
     "output_type": "stream",
     "text": [
      "27 Images found in folder\n"
     ]
    }
   ],
   "source": [
    "## define working directory and which files to sample\n",
    "\n",
    "directory_coach = os.path.join(\"N:\",\"Sean O'Rourke\",\"LisaRose E22\",\n",
    "                               \"2.0 Performance Analysis\",\"2.2 KND\",\n",
    "                               \"2022\",\"2022-05 mayTesting\",\"Photos\",\"gopro_7\")\n",
    "\n",
    "file_list = [f for f in listdir(directory_coach) if isfile(join(directory_coach, f))] # inspect directory and return list of files\n",
    "print(str(len(file_list))+' Images found in folder')"
   ]
  },
  {
   "cell_type": "code",
   "execution_count": 68,
   "metadata": {
    "pycharm": {
     "name": "#%%\n"
    }
   },
   "outputs": [
    {
     "name": "stdout",
     "output_type": "stream",
     "text": [
      "The first timestamp is  2022-05-07 09:34:09\n"
     ]
    }
   ],
   "source": [
    "\n",
    "filepath = os.path.join(directory_coach, file_list[0])\n",
    "photo = open(filepath, 'rb')\n",
    "tags = ex.process_file(photo)\n",
    "ts_time = datetime.strptime(str(tags['EXIF DateTimeOriginal']), '%Y:%m:%d %H:%M:%S')\n",
    "print(\"The first timestamp is \", ts_time)"
   ]
  },
  {
   "cell_type": "code",
   "execution_count": 69,
   "metadata": {
    "pycharm": {
     "name": "#%%\n"
    }
   },
   "outputs": [
    {
     "name": "stdout",
     "output_type": "stream",
     "text": [
      "Please enter what first time stamp should read2022-05-07 09:34:09\n"
     ]
    }
   ],
   "source": [
    "\n",
    "try:\n",
    "    ts_correct = datetime.strptime(input(\"Please enter what first time stamp should read\"), '%Y-%m-%d %H:%M:%S')\n",
    "\n",
    "except:\n",
    "    ts_correct = ts_time\n",
    "\n",
    "ts_delta = ts_correct - ts_time"
   ]
  },
  {
   "cell_type": "code",
   "execution_count": 70,
   "metadata": {
    "pycharm": {
     "name": "#%%\n"
    }
   },
   "outputs": [
    {
     "name": "stdout",
     "output_type": "stream",
     "text": [
      "N:Sean O'Rourke\\LisaRose E22\\2.0 Performance Analysis\\2.2 KND\\2022\\2022-05 mayTesting\\Photos\\gopro_7\\G0021563.JPG\n",
      "N:Sean O'Rourke\\LisaRose E22\\2.0 Performance Analysis\\2.2 KND\\2022\\2022-05 mayTesting\\Photos\\gopro_7\\G0021563.JPG\n",
      "1\n",
      "N:Sean O'Rourke\\LisaRose E22\\2.0 Performance Analysis\\2.2 KND\\2022\\2022-05 mayTesting\\Photos\\gopro_7\\G0021935.JPG\n",
      "N:Sean O'Rourke\\LisaRose E22\\2.0 Performance Analysis\\2.2 KND\\2022\\2022-05 mayTesting\\Photos\\gopro_7\\G0021935.JPG\n",
      "2\n",
      "N:Sean O'Rourke\\LisaRose E22\\2.0 Performance Analysis\\2.2 KND\\2022\\2022-05 mayTesting\\Photos\\gopro_7\\G0021985.JPG\n",
      "N:Sean O'Rourke\\LisaRose E22\\2.0 Performance Analysis\\2.2 KND\\2022\\2022-05 mayTesting\\Photos\\gopro_7\\G0021985.JPG\n",
      "3\n",
      "N:Sean O'Rourke\\LisaRose E22\\2.0 Performance Analysis\\2.2 KND\\2022\\2022-05 mayTesting\\Photos\\gopro_7\\G0022045.JPG\n",
      "N:Sean O'Rourke\\LisaRose E22\\2.0 Performance Analysis\\2.2 KND\\2022\\2022-05 mayTesting\\Photos\\gopro_7\\G0022045.JPG\n",
      "4\n",
      "N:Sean O'Rourke\\LisaRose E22\\2.0 Performance Analysis\\2.2 KND\\2022\\2022-05 mayTesting\\Photos\\gopro_7\\G0022057.JPG\n",
      "N:Sean O'Rourke\\LisaRose E22\\2.0 Performance Analysis\\2.2 KND\\2022\\2022-05 mayTesting\\Photos\\gopro_7\\G0022057.JPG\n",
      "5\n",
      "N:Sean O'Rourke\\LisaRose E22\\2.0 Performance Analysis\\2.2 KND\\2022\\2022-05 mayTesting\\Photos\\gopro_7\\G0026864.JPG\n",
      "N:Sean O'Rourke\\LisaRose E22\\2.0 Performance Analysis\\2.2 KND\\2022\\2022-05 mayTesting\\Photos\\gopro_7\\G0026864.JPG\n",
      "6\n",
      "N:Sean O'Rourke\\LisaRose E22\\2.0 Performance Analysis\\2.2 KND\\2022\\2022-05 mayTesting\\Photos\\gopro_7\\G0026878.JPG\n",
      "N:Sean O'Rourke\\LisaRose E22\\2.0 Performance Analysis\\2.2 KND\\2022\\2022-05 mayTesting\\Photos\\gopro_7\\G0026878.JPG\n",
      "7\n",
      "N:Sean O'Rourke\\LisaRose E22\\2.0 Performance Analysis\\2.2 KND\\2022\\2022-05 mayTesting\\Photos\\gopro_7\\G0026903.JPG\n",
      "N:Sean O'Rourke\\LisaRose E22\\2.0 Performance Analysis\\2.2 KND\\2022\\2022-05 mayTesting\\Photos\\gopro_7\\G0026903.JPG\n",
      "8\n",
      "N:Sean O'Rourke\\LisaRose E22\\2.0 Performance Analysis\\2.2 KND\\2022\\2022-05 mayTesting\\Photos\\gopro_7\\G0026924.JPG\n",
      "N:Sean O'Rourke\\LisaRose E22\\2.0 Performance Analysis\\2.2 KND\\2022\\2022-05 mayTesting\\Photos\\gopro_7\\G0026924.JPG\n",
      "9\n",
      "N:Sean O'Rourke\\LisaRose E22\\2.0 Performance Analysis\\2.2 KND\\2022\\2022-05 mayTesting\\Photos\\gopro_7\\G0028779.JPG\n",
      "N:Sean O'Rourke\\LisaRose E22\\2.0 Performance Analysis\\2.2 KND\\2022\\2022-05 mayTesting\\Photos\\gopro_7\\G0028779.JPG\n",
      "10\n",
      "N:Sean O'Rourke\\LisaRose E22\\2.0 Performance Analysis\\2.2 KND\\2022\\2022-05 mayTesting\\Photos\\gopro_7\\G0028811.JPG\n",
      "N:Sean O'Rourke\\LisaRose E22\\2.0 Performance Analysis\\2.2 KND\\2022\\2022-05 mayTesting\\Photos\\gopro_7\\G0028811.JPG\n",
      "11\n",
      "N:Sean O'Rourke\\LisaRose E22\\2.0 Performance Analysis\\2.2 KND\\2022\\2022-05 mayTesting\\Photos\\gopro_7\\G0028852.JPG\n",
      "N:Sean O'Rourke\\LisaRose E22\\2.0 Performance Analysis\\2.2 KND\\2022\\2022-05 mayTesting\\Photos\\gopro_7\\G0028852.JPG\n",
      "12\n",
      "N:Sean O'Rourke\\LisaRose E22\\2.0 Performance Analysis\\2.2 KND\\2022\\2022-05 mayTesting\\Photos\\gopro_7\\G0029003.JPG\n",
      "N:Sean O'Rourke\\LisaRose E22\\2.0 Performance Analysis\\2.2 KND\\2022\\2022-05 mayTesting\\Photos\\gopro_7\\G0029003.JPG\n",
      "13\n",
      "N:Sean O'Rourke\\LisaRose E22\\2.0 Performance Analysis\\2.2 KND\\2022\\2022-05 mayTesting\\Photos\\gopro_7\\G0029014.JPG\n",
      "N:Sean O'Rourke\\LisaRose E22\\2.0 Performance Analysis\\2.2 KND\\2022\\2022-05 mayTesting\\Photos\\gopro_7\\G0029014.JPG\n",
      "14\n",
      "N:Sean O'Rourke\\LisaRose E22\\2.0 Performance Analysis\\2.2 KND\\2022\\2022-05 mayTesting\\Photos\\gopro_7\\G0029029.JPG\n",
      "N:Sean O'Rourke\\LisaRose E22\\2.0 Performance Analysis\\2.2 KND\\2022\\2022-05 mayTesting\\Photos\\gopro_7\\G0029029.JPG\n",
      "15\n",
      "N:Sean O'Rourke\\LisaRose E22\\2.0 Performance Analysis\\2.2 KND\\2022\\2022-05 mayTesting\\Photos\\gopro_7\\G0029070.JPG\n",
      "N:Sean O'Rourke\\LisaRose E22\\2.0 Performance Analysis\\2.2 KND\\2022\\2022-05 mayTesting\\Photos\\gopro_7\\G0029070.JPG\n",
      "16\n",
      "N:Sean O'Rourke\\LisaRose E22\\2.0 Performance Analysis\\2.2 KND\\2022\\2022-05 mayTesting\\Photos\\gopro_7\\G0029108.JPG\n",
      "N:Sean O'Rourke\\LisaRose E22\\2.0 Performance Analysis\\2.2 KND\\2022\\2022-05 mayTesting\\Photos\\gopro_7\\G0029108.JPG\n",
      "17\n",
      "N:Sean O'Rourke\\LisaRose E22\\2.0 Performance Analysis\\2.2 KND\\2022\\2022-05 mayTesting\\Photos\\gopro_7\\G0029332.JPG\n",
      "N:Sean O'Rourke\\LisaRose E22\\2.0 Performance Analysis\\2.2 KND\\2022\\2022-05 mayTesting\\Photos\\gopro_7\\G0029332.JPG\n",
      "18\n",
      "N:Sean O'Rourke\\LisaRose E22\\2.0 Performance Analysis\\2.2 KND\\2022\\2022-05 mayTesting\\Photos\\gopro_7\\G0029371.JPG\n",
      "N:Sean O'Rourke\\LisaRose E22\\2.0 Performance Analysis\\2.2 KND\\2022\\2022-05 mayTesting\\Photos\\gopro_7\\G0029371.JPG\n",
      "19\n",
      "N:Sean O'Rourke\\LisaRose E22\\2.0 Performance Analysis\\2.2 KND\\2022\\2022-05 mayTesting\\Photos\\gopro_7\\G0029550.JPG\n",
      "N:Sean O'Rourke\\LisaRose E22\\2.0 Performance Analysis\\2.2 KND\\2022\\2022-05 mayTesting\\Photos\\gopro_7\\G0029550.JPG\n",
      "20\n",
      "N:Sean O'Rourke\\LisaRose E22\\2.0 Performance Analysis\\2.2 KND\\2022\\2022-05 mayTesting\\Photos\\gopro_7\\G0029607.JPG\n",
      "N:Sean O'Rourke\\LisaRose E22\\2.0 Performance Analysis\\2.2 KND\\2022\\2022-05 mayTesting\\Photos\\gopro_7\\G0029607.JPG\n",
      "21\n",
      "N:Sean O'Rourke\\LisaRose E22\\2.0 Performance Analysis\\2.2 KND\\2022\\2022-05 mayTesting\\Photos\\gopro_7\\G0029624.JPG\n",
      "N:Sean O'Rourke\\LisaRose E22\\2.0 Performance Analysis\\2.2 KND\\2022\\2022-05 mayTesting\\Photos\\gopro_7\\G0029624.JPG\n",
      "22\n",
      "N:Sean O'Rourke\\LisaRose E22\\2.0 Performance Analysis\\2.2 KND\\2022\\2022-05 mayTesting\\Photos\\gopro_7\\G0030353.JPG\n",
      "N:Sean O'Rourke\\LisaRose E22\\2.0 Performance Analysis\\2.2 KND\\2022\\2022-05 mayTesting\\Photos\\gopro_7\\G0030353.JPG\n",
      "23\n",
      "N:Sean O'Rourke\\LisaRose E22\\2.0 Performance Analysis\\2.2 KND\\2022\\2022-05 mayTesting\\Photos\\gopro_7\\G0030462.JPG\n",
      "N:Sean O'Rourke\\LisaRose E22\\2.0 Performance Analysis\\2.2 KND\\2022\\2022-05 mayTesting\\Photos\\gopro_7\\G0030462.JPG\n",
      "24\n",
      "N:Sean O'Rourke\\LisaRose E22\\2.0 Performance Analysis\\2.2 KND\\2022\\2022-05 mayTesting\\Photos\\gopro_7\\G0030546.JPG\n",
      "N:Sean O'Rourke\\LisaRose E22\\2.0 Performance Analysis\\2.2 KND\\2022\\2022-05 mayTesting\\Photos\\gopro_7\\G0030546.JPG\n",
      "25\n",
      "N:Sean O'Rourke\\LisaRose E22\\2.0 Performance Analysis\\2.2 KND\\2022\\2022-05 mayTesting\\Photos\\gopro_7\\G0030611.JPG\n",
      "N:Sean O'Rourke\\LisaRose E22\\2.0 Performance Analysis\\2.2 KND\\2022\\2022-05 mayTesting\\Photos\\gopro_7\\G0030611.JPG\n",
      "26\n",
      "N:Sean O'Rourke\\LisaRose E22\\2.0 Performance Analysis\\2.2 KND\\2022\\2022-05 mayTesting\\Photos\\gopro_7\\G0030920.JPG\n",
      "N:Sean O'Rourke\\LisaRose E22\\2.0 Performance Analysis\\2.2 KND\\2022\\2022-05 mayTesting\\Photos\\gopro_7\\G0030920.JPG\n",
      "27\n"
     ]
    }
   ],
   "source": [
    "dets = []\n",
    "counter = 0\n",
    "for file in file_list:\n",
    "    try:\n",
    "        filepath = os.path.join(directory_coach, file)\n",
    "        print(filepath)\n",
    "        fp = os.path.join(directory_coach, file)\n",
    "        print(fp)\n",
    "        photo = open(filepath, 'rb')\n",
    "        tags = ex.process_file(photo)\n",
    "        timestamp = datetime.strptime(str(tags['EXIF DateTimeOriginal']), '%Y:%m:%d %H:%M:%S') + ts_delta\n",
    "        dets.append(\n",
    "            {\n",
    "                'date': timestamp.date(),\n",
    "                'time': timestamp.time(),\n",
    "                'filepath': fp,\n",
    "                'file': file\n",
    "            }\n",
    "        )\n",
    "        counter = counter + 1\n",
    "        print(counter)\n",
    "\n",
    "    except:\n",
    "        print('Issue with',file)\n",
    "\n",
    "dets_df =  pd.DataFrame(dets)"
   ]
  },
  {
   "cell_type": "code",
   "execution_count": 71,
   "metadata": {
    "pycharm": {
     "name": "#%%\n"
    }
   },
   "outputs": [
    {
     "name": "stdout",
     "output_type": "stream",
     "text": [
      "<event date=\"2022-05-07\" time=\"09:34:09\" type=\"PhotoEvent\" attribute=\"Not Specified\" comments=\"N:Sean O'Rourke\\LisaRose E22\\2.0 Performance Analysis\\2.2 KND\\2022\\2022-05 mayTesting\\Photos\\gopro_7\\G0021563.JPG\" photopath=\"N:Sean O'Rourke\\LisaRose E22\\2.0 Performance Analysis\\2.2 KND\\2022\\2022-05 mayTesting\\Photos\\gopro_7\\G0021563.JPG\" labelalign=\"Top\" />\n",
      "<event date=\"2022-05-07\" time=\"10:05:09\" type=\"PhotoEvent\" attribute=\"Not Specified\" comments=\"N:Sean O'Rourke\\LisaRose E22\\2.0 Performance Analysis\\2.2 KND\\2022\\2022-05 mayTesting\\Photos\\gopro_7\\G0021935.JPG\" photopath=\"N:Sean O'Rourke\\LisaRose E22\\2.0 Performance Analysis\\2.2 KND\\2022\\2022-05 mayTesting\\Photos\\gopro_7\\G0021935.JPG\" labelalign=\"Top\" />\n",
      "<event date=\"2022-05-07\" time=\"10:09:19\" type=\"PhotoEvent\" attribute=\"Not Specified\" comments=\"N:Sean O'Rourke\\LisaRose E22\\2.0 Performance Analysis\\2.2 KND\\2022\\2022-05 mayTesting\\Photos\\gopro_7\\G0021985.JPG\" photopath=\"N:Sean O'Rourke\\LisaRose E22\\2.0 Performance Analysis\\2.2 KND\\2022\\2022-05 mayTesting\\Photos\\gopro_7\\G0021985.JPG\" labelalign=\"Top\" />\n",
      "<event date=\"2022-05-07\" time=\"10:14:19\" type=\"PhotoEvent\" attribute=\"Not Specified\" comments=\"N:Sean O'Rourke\\LisaRose E22\\2.0 Performance Analysis\\2.2 KND\\2022\\2022-05 mayTesting\\Photos\\gopro_7\\G0022045.JPG\" photopath=\"N:Sean O'Rourke\\LisaRose E22\\2.0 Performance Analysis\\2.2 KND\\2022\\2022-05 mayTesting\\Photos\\gopro_7\\G0022045.JPG\" labelalign=\"Top\" />\n",
      "<event date=\"2022-05-07\" time=\"10:15:19\" type=\"PhotoEvent\" attribute=\"Not Specified\" comments=\"N:Sean O'Rourke\\LisaRose E22\\2.0 Performance Analysis\\2.2 KND\\2022\\2022-05 mayTesting\\Photos\\gopro_7\\G0022057.JPG\" photopath=\"N:Sean O'Rourke\\LisaRose E22\\2.0 Performance Analysis\\2.2 KND\\2022\\2022-05 mayTesting\\Photos\\gopro_7\\G0022057.JPG\" labelalign=\"Top\" />\n",
      "<event date=\"2022-05-07\" time=\"09:33:27\" type=\"PhotoEvent\" attribute=\"Not Specified\" comments=\"N:Sean O'Rourke\\LisaRose E22\\2.0 Performance Analysis\\2.2 KND\\2022\\2022-05 mayTesting\\Photos\\gopro_7\\G0026864.JPG\" photopath=\"N:Sean O'Rourke\\LisaRose E22\\2.0 Performance Analysis\\2.2 KND\\2022\\2022-05 mayTesting\\Photos\\gopro_7\\G0026864.JPG\" labelalign=\"Top\" />\n",
      "<event date=\"2022-05-07\" time=\"09:33:41\" type=\"PhotoEvent\" attribute=\"Not Specified\" comments=\"N:Sean O'Rourke\\LisaRose E22\\2.0 Performance Analysis\\2.2 KND\\2022\\2022-05 mayTesting\\Photos\\gopro_7\\G0026878.JPG\" photopath=\"N:Sean O'Rourke\\LisaRose E22\\2.0 Performance Analysis\\2.2 KND\\2022\\2022-05 mayTesting\\Photos\\gopro_7\\G0026878.JPG\" labelalign=\"Top\" />\n",
      "<event date=\"2022-05-07\" time=\"09:34:06\" type=\"PhotoEvent\" attribute=\"Not Specified\" comments=\"N:Sean O'Rourke\\LisaRose E22\\2.0 Performance Analysis\\2.2 KND\\2022\\2022-05 mayTesting\\Photos\\gopro_7\\G0026903.JPG\" photopath=\"N:Sean O'Rourke\\LisaRose E22\\2.0 Performance Analysis\\2.2 KND\\2022\\2022-05 mayTesting\\Photos\\gopro_7\\G0026903.JPG\" labelalign=\"Top\" />\n",
      "<event date=\"2022-05-07\" time=\"09:34:27\" type=\"PhotoEvent\" attribute=\"Not Specified\" comments=\"N:Sean O'Rourke\\LisaRose E22\\2.0 Performance Analysis\\2.2 KND\\2022\\2022-05 mayTesting\\Photos\\gopro_7\\G0026924.JPG\" photopath=\"N:Sean O'Rourke\\LisaRose E22\\2.0 Performance Analysis\\2.2 KND\\2022\\2022-05 mayTesting\\Photos\\gopro_7\\G0026924.JPG\" labelalign=\"Top\" />\n",
      "<event date=\"2022-05-07\" time=\"10:05:22\" type=\"PhotoEvent\" attribute=\"Not Specified\" comments=\"N:Sean O'Rourke\\LisaRose E22\\2.0 Performance Analysis\\2.2 KND\\2022\\2022-05 mayTesting\\Photos\\gopro_7\\G0028779.JPG\" photopath=\"N:Sean O'Rourke\\LisaRose E22\\2.0 Performance Analysis\\2.2 KND\\2022\\2022-05 mayTesting\\Photos\\gopro_7\\G0028779.JPG\" labelalign=\"Top\" />\n",
      "<event date=\"2022-05-07\" time=\"10:05:54\" type=\"PhotoEvent\" attribute=\"Not Specified\" comments=\"N:Sean O'Rourke\\LisaRose E22\\2.0 Performance Analysis\\2.2 KND\\2022\\2022-05 mayTesting\\Photos\\gopro_7\\G0028811.JPG\" photopath=\"N:Sean O'Rourke\\LisaRose E22\\2.0 Performance Analysis\\2.2 KND\\2022\\2022-05 mayTesting\\Photos\\gopro_7\\G0028811.JPG\" labelalign=\"Top\" />\n",
      "<event date=\"2022-05-07\" time=\"10:06:35\" type=\"PhotoEvent\" attribute=\"Not Specified\" comments=\"N:Sean O'Rourke\\LisaRose E22\\2.0 Performance Analysis\\2.2 KND\\2022\\2022-05 mayTesting\\Photos\\gopro_7\\G0028852.JPG\" photopath=\"N:Sean O'Rourke\\LisaRose E22\\2.0 Performance Analysis\\2.2 KND\\2022\\2022-05 mayTesting\\Photos\\gopro_7\\G0028852.JPG\" labelalign=\"Top\" />\n",
      "<event date=\"2022-05-07\" time=\"10:09:06\" type=\"PhotoEvent\" attribute=\"Not Specified\" comments=\"N:Sean O'Rourke\\LisaRose E22\\2.0 Performance Analysis\\2.2 KND\\2022\\2022-05 mayTesting\\Photos\\gopro_7\\G0029003.JPG\" photopath=\"N:Sean O'Rourke\\LisaRose E22\\2.0 Performance Analysis\\2.2 KND\\2022\\2022-05 mayTesting\\Photos\\gopro_7\\G0029003.JPG\" labelalign=\"Top\" />\n",
      "<event date=\"2022-05-07\" time=\"10:09:17\" type=\"PhotoEvent\" attribute=\"Not Specified\" comments=\"N:Sean O'Rourke\\LisaRose E22\\2.0 Performance Analysis\\2.2 KND\\2022\\2022-05 mayTesting\\Photos\\gopro_7\\G0029014.JPG\" photopath=\"N:Sean O'Rourke\\LisaRose E22\\2.0 Performance Analysis\\2.2 KND\\2022\\2022-05 mayTesting\\Photos\\gopro_7\\G0029014.JPG\" labelalign=\"Top\" />\n",
      "<event date=\"2022-05-07\" time=\"10:09:32\" type=\"PhotoEvent\" attribute=\"Not Specified\" comments=\"N:Sean O'Rourke\\LisaRose E22\\2.0 Performance Analysis\\2.2 KND\\2022\\2022-05 mayTesting\\Photos\\gopro_7\\G0029029.JPG\" photopath=\"N:Sean O'Rourke\\LisaRose E22\\2.0 Performance Analysis\\2.2 KND\\2022\\2022-05 mayTesting\\Photos\\gopro_7\\G0029029.JPG\" labelalign=\"Top\" />\n",
      "<event date=\"2022-05-07\" time=\"10:10:13\" type=\"PhotoEvent\" attribute=\"Not Specified\" comments=\"N:Sean O'Rourke\\LisaRose E22\\2.0 Performance Analysis\\2.2 KND\\2022\\2022-05 mayTesting\\Photos\\gopro_7\\G0029070.JPG\" photopath=\"N:Sean O'Rourke\\LisaRose E22\\2.0 Performance Analysis\\2.2 KND\\2022\\2022-05 mayTesting\\Photos\\gopro_7\\G0029070.JPG\" labelalign=\"Top\" />\n",
      "<event date=\"2022-05-07\" time=\"10:10:51\" type=\"PhotoEvent\" attribute=\"Not Specified\" comments=\"N:Sean O'Rourke\\LisaRose E22\\2.0 Performance Analysis\\2.2 KND\\2022\\2022-05 mayTesting\\Photos\\gopro_7\\G0029108.JPG\" photopath=\"N:Sean O'Rourke\\LisaRose E22\\2.0 Performance Analysis\\2.2 KND\\2022\\2022-05 mayTesting\\Photos\\gopro_7\\G0029108.JPG\" labelalign=\"Top\" />\n",
      "<event date=\"2022-05-07\" time=\"10:14:35\" type=\"PhotoEvent\" attribute=\"Not Specified\" comments=\"N:Sean O'Rourke\\LisaRose E22\\2.0 Performance Analysis\\2.2 KND\\2022\\2022-05 mayTesting\\Photos\\gopro_7\\G0029332.JPG\" photopath=\"N:Sean O'Rourke\\LisaRose E22\\2.0 Performance Analysis\\2.2 KND\\2022\\2022-05 mayTesting\\Photos\\gopro_7\\G0029332.JPG\" labelalign=\"Top\" />\n",
      "<event date=\"2022-05-07\" time=\"10:15:14\" type=\"PhotoEvent\" attribute=\"Not Specified\" comments=\"N:Sean O'Rourke\\LisaRose E22\\2.0 Performance Analysis\\2.2 KND\\2022\\2022-05 mayTesting\\Photos\\gopro_7\\G0029371.JPG\" photopath=\"N:Sean O'Rourke\\LisaRose E22\\2.0 Performance Analysis\\2.2 KND\\2022\\2022-05 mayTesting\\Photos\\gopro_7\\G0029371.JPG\" labelalign=\"Top\" />\n",
      "<event date=\"2022-05-07\" time=\"10:18:13\" type=\"PhotoEvent\" attribute=\"Not Specified\" comments=\"N:Sean O'Rourke\\LisaRose E22\\2.0 Performance Analysis\\2.2 KND\\2022\\2022-05 mayTesting\\Photos\\gopro_7\\G0029550.JPG\" photopath=\"N:Sean O'Rourke\\LisaRose E22\\2.0 Performance Analysis\\2.2 KND\\2022\\2022-05 mayTesting\\Photos\\gopro_7\\G0029550.JPG\" labelalign=\"Top\" />\n",
      "<event date=\"2022-05-07\" time=\"10:19:10\" type=\"PhotoEvent\" attribute=\"Not Specified\" comments=\"N:Sean O'Rourke\\LisaRose E22\\2.0 Performance Analysis\\2.2 KND\\2022\\2022-05 mayTesting\\Photos\\gopro_7\\G0029607.JPG\" photopath=\"N:Sean O'Rourke\\LisaRose E22\\2.0 Performance Analysis\\2.2 KND\\2022\\2022-05 mayTesting\\Photos\\gopro_7\\G0029607.JPG\" labelalign=\"Top\" />\n",
      "<event date=\"2022-05-07\" time=\"10:19:27\" type=\"PhotoEvent\" attribute=\"Not Specified\" comments=\"N:Sean O'Rourke\\LisaRose E22\\2.0 Performance Analysis\\2.2 KND\\2022\\2022-05 mayTesting\\Photos\\gopro_7\\G0029624.JPG\" photopath=\"N:Sean O'Rourke\\LisaRose E22\\2.0 Performance Analysis\\2.2 KND\\2022\\2022-05 mayTesting\\Photos\\gopro_7\\G0029624.JPG\" labelalign=\"Top\" />\n",
      "<event date=\"2022-05-07\" time=\"10:31:35\" type=\"PhotoEvent\" attribute=\"Not Specified\" comments=\"N:Sean O'Rourke\\LisaRose E22\\2.0 Performance Analysis\\2.2 KND\\2022\\2022-05 mayTesting\\Photos\\gopro_7\\G0030353.JPG\" photopath=\"N:Sean O'Rourke\\LisaRose E22\\2.0 Performance Analysis\\2.2 KND\\2022\\2022-05 mayTesting\\Photos\\gopro_7\\G0030353.JPG\" labelalign=\"Top\" />\n",
      "<event date=\"2022-05-07\" time=\"10:33:24\" type=\"PhotoEvent\" attribute=\"Not Specified\" comments=\"N:Sean O'Rourke\\LisaRose E22\\2.0 Performance Analysis\\2.2 KND\\2022\\2022-05 mayTesting\\Photos\\gopro_7\\G0030462.JPG\" photopath=\"N:Sean O'Rourke\\LisaRose E22\\2.0 Performance Analysis\\2.2 KND\\2022\\2022-05 mayTesting\\Photos\\gopro_7\\G0030462.JPG\" labelalign=\"Top\" />\n",
      "<event date=\"2022-05-07\" time=\"10:34:48\" type=\"PhotoEvent\" attribute=\"Not Specified\" comments=\"N:Sean O'Rourke\\LisaRose E22\\2.0 Performance Analysis\\2.2 KND\\2022\\2022-05 mayTesting\\Photos\\gopro_7\\G0030546.JPG\" photopath=\"N:Sean O'Rourke\\LisaRose E22\\2.0 Performance Analysis\\2.2 KND\\2022\\2022-05 mayTesting\\Photos\\gopro_7\\G0030546.JPG\" labelalign=\"Top\" />\n",
      "<event date=\"2022-05-07\" time=\"10:35:53\" type=\"PhotoEvent\" attribute=\"Not Specified\" comments=\"N:Sean O'Rourke\\LisaRose E22\\2.0 Performance Analysis\\2.2 KND\\2022\\2022-05 mayTesting\\Photos\\gopro_7\\G0030611.JPG\" photopath=\"N:Sean O'Rourke\\LisaRose E22\\2.0 Performance Analysis\\2.2 KND\\2022\\2022-05 mayTesting\\Photos\\gopro_7\\G0030611.JPG\" labelalign=\"Top\" />\n",
      "<event date=\"2022-05-07\" time=\"10:41:03\" type=\"PhotoEvent\" attribute=\"Not Specified\" comments=\"N:Sean O'Rourke\\LisaRose E22\\2.0 Performance Analysis\\2.2 KND\\2022\\2022-05 mayTesting\\Photos\\gopro_7\\G0030920.JPG\" photopath=\"N:Sean O'Rourke\\LisaRose E22\\2.0 Performance Analysis\\2.2 KND\\2022\\2022-05 mayTesting\\Photos\\gopro_7\\G0030920.JPG\" labelalign=\"Top\" />\n"
     ]
    }
   ],
   "source": [
    "\n",
    "for i in range(len(dets_df)):\n",
    "    print('<event date=\"',dets_df['date'].iloc[i],'\" time=\"',dets_df['time'].iloc[i],'\" type=\"PhotoEvent\" attribute=\"Not Specified\" comments=\"',dets_df['filepath'].iloc[i],'\" photopath=\"',dets_df['filepath'].iloc[i],'\" labelalign=\"Top\" />', sep='')\n"
   ]
  },
  {
   "cell_type": "code",
   "execution_count": 10,
   "metadata": {
    "pycharm": {
     "name": "#%%\n"
    }
   },
   "outputs": [
    {
     "data": {
      "text/html": [
       "<div>\n",
       "<style scoped>\n",
       "    .dataframe tbody tr th:only-of-type {\n",
       "        vertical-align: middle;\n",
       "    }\n",
       "\n",
       "    .dataframe tbody tr th {\n",
       "        vertical-align: top;\n",
       "    }\n",
       "\n",
       "    .dataframe thead th {\n",
       "        text-align: right;\n",
       "    }\n",
       "</style>\n",
       "<table border=\"1\" class=\"dataframe\">\n",
       "  <thead>\n",
       "    <tr style=\"text-align: right;\">\n",
       "      <th></th>\n",
       "      <th>date</th>\n",
       "      <th>time</th>\n",
       "      <th>filepath</th>\n",
       "      <th>file</th>\n",
       "    </tr>\n",
       "  </thead>\n",
       "  <tbody>\n",
       "    <tr>\n",
       "      <th>0</th>\n",
       "      <td>2022-05-06</td>\n",
       "      <td>14:43:28</td>\n",
       "      <td>N:Sean O'Rourke\\LisaRose E22\\2.0 Performance A...</td>\n",
       "      <td>coach (32).jpeg</td>\n",
       "    </tr>\n",
       "    <tr>\n",
       "      <th>1</th>\n",
       "      <td>2022-05-06</td>\n",
       "      <td>14:44:35</td>\n",
       "      <td>N:Sean O'Rourke\\LisaRose E22\\2.0 Performance A...</td>\n",
       "      <td>coach (33).jpeg</td>\n",
       "    </tr>\n",
       "    <tr>\n",
       "      <th>2</th>\n",
       "      <td>2022-05-06</td>\n",
       "      <td>14:45:01</td>\n",
       "      <td>N:Sean O'Rourke\\LisaRose E22\\2.0 Performance A...</td>\n",
       "      <td>coach (34).jpeg</td>\n",
       "    </tr>\n",
       "    <tr>\n",
       "      <th>3</th>\n",
       "      <td>2022-05-06</td>\n",
       "      <td>14:45:05</td>\n",
       "      <td>N:Sean O'Rourke\\LisaRose E22\\2.0 Performance A...</td>\n",
       "      <td>coach (35).jpeg</td>\n",
       "    </tr>\n",
       "    <tr>\n",
       "      <th>4</th>\n",
       "      <td>2022-05-06</td>\n",
       "      <td>14:46:26</td>\n",
       "      <td>N:Sean O'Rourke\\LisaRose E22\\2.0 Performance A...</td>\n",
       "      <td>coach (36).jpeg</td>\n",
       "    </tr>\n",
       "    <tr>\n",
       "      <th>5</th>\n",
       "      <td>2022-05-06</td>\n",
       "      <td>14:46:47</td>\n",
       "      <td>N:Sean O'Rourke\\LisaRose E22\\2.0 Performance A...</td>\n",
       "      <td>coach (37).jpeg</td>\n",
       "    </tr>\n",
       "    <tr>\n",
       "      <th>6</th>\n",
       "      <td>2022-05-06</td>\n",
       "      <td>14:55:25</td>\n",
       "      <td>N:Sean O'Rourke\\LisaRose E22\\2.0 Performance A...</td>\n",
       "      <td>coach (38).jpeg</td>\n",
       "    </tr>\n",
       "    <tr>\n",
       "      <th>7</th>\n",
       "      <td>2022-05-06</td>\n",
       "      <td>14:55:40</td>\n",
       "      <td>N:Sean O'Rourke\\LisaRose E22\\2.0 Performance A...</td>\n",
       "      <td>coach (39).jpeg</td>\n",
       "    </tr>\n",
       "    <tr>\n",
       "      <th>8</th>\n",
       "      <td>2022-05-06</td>\n",
       "      <td>14:55:47</td>\n",
       "      <td>N:Sean O'Rourke\\LisaRose E22\\2.0 Performance A...</td>\n",
       "      <td>coach (40).jpeg</td>\n",
       "    </tr>\n",
       "    <tr>\n",
       "      <th>9</th>\n",
       "      <td>2022-05-06</td>\n",
       "      <td>14:55:48</td>\n",
       "      <td>N:Sean O'Rourke\\LisaRose E22\\2.0 Performance A...</td>\n",
       "      <td>coach (41).jpeg</td>\n",
       "    </tr>\n",
       "    <tr>\n",
       "      <th>10</th>\n",
       "      <td>2022-05-06</td>\n",
       "      <td>14:55:52</td>\n",
       "      <td>N:Sean O'Rourke\\LisaRose E22\\2.0 Performance A...</td>\n",
       "      <td>coach (42).jpeg</td>\n",
       "    </tr>\n",
       "    <tr>\n",
       "      <th>11</th>\n",
       "      <td>2022-05-06</td>\n",
       "      <td>15:16:39</td>\n",
       "      <td>N:Sean O'Rourke\\LisaRose E22\\2.0 Performance A...</td>\n",
       "      <td>coach (43).jpeg</td>\n",
       "    </tr>\n",
       "    <tr>\n",
       "      <th>12</th>\n",
       "      <td>2022-05-06</td>\n",
       "      <td>15:17:52</td>\n",
       "      <td>N:Sean O'Rourke\\LisaRose E22\\2.0 Performance A...</td>\n",
       "      <td>coach (44).jpeg</td>\n",
       "    </tr>\n",
       "    <tr>\n",
       "      <th>13</th>\n",
       "      <td>2022-05-06</td>\n",
       "      <td>15:18:24</td>\n",
       "      <td>N:Sean O'Rourke\\LisaRose E22\\2.0 Performance A...</td>\n",
       "      <td>coach (45).jpeg</td>\n",
       "    </tr>\n",
       "    <tr>\n",
       "      <th>14</th>\n",
       "      <td>2022-05-06</td>\n",
       "      <td>15:18:27</td>\n",
       "      <td>N:Sean O'Rourke\\LisaRose E22\\2.0 Performance A...</td>\n",
       "      <td>coach (46).jpeg</td>\n",
       "    </tr>\n",
       "    <tr>\n",
       "      <th>15</th>\n",
       "      <td>2022-05-06</td>\n",
       "      <td>15:20:41</td>\n",
       "      <td>N:Sean O'Rourke\\LisaRose E22\\2.0 Performance A...</td>\n",
       "      <td>coach (47).jpeg</td>\n",
       "    </tr>\n",
       "    <tr>\n",
       "      <th>16</th>\n",
       "      <td>2022-05-06</td>\n",
       "      <td>15:21:16</td>\n",
       "      <td>N:Sean O'Rourke\\LisaRose E22\\2.0 Performance A...</td>\n",
       "      <td>coach (48).jpeg</td>\n",
       "    </tr>\n",
       "    <tr>\n",
       "      <th>17</th>\n",
       "      <td>2022-05-06</td>\n",
       "      <td>15:21:17</td>\n",
       "      <td>N:Sean O'Rourke\\LisaRose E22\\2.0 Performance A...</td>\n",
       "      <td>coach (49).jpeg</td>\n",
       "    </tr>\n",
       "    <tr>\n",
       "      <th>18</th>\n",
       "      <td>2022-05-06</td>\n",
       "      <td>15:21:18</td>\n",
       "      <td>N:Sean O'Rourke\\LisaRose E22\\2.0 Performance A...</td>\n",
       "      <td>coach (50).jpeg</td>\n",
       "    </tr>\n",
       "    <tr>\n",
       "      <th>19</th>\n",
       "      <td>2022-05-06</td>\n",
       "      <td>15:21:34</td>\n",
       "      <td>N:Sean O'Rourke\\LisaRose E22\\2.0 Performance A...</td>\n",
       "      <td>coach (51).jpeg</td>\n",
       "    </tr>\n",
       "    <tr>\n",
       "      <th>20</th>\n",
       "      <td>2022-05-06</td>\n",
       "      <td>15:21:56</td>\n",
       "      <td>N:Sean O'Rourke\\LisaRose E22\\2.0 Performance A...</td>\n",
       "      <td>coach (52).jpeg</td>\n",
       "    </tr>\n",
       "  </tbody>\n",
       "</table>\n",
       "</div>"
      ],
      "text/plain": [
       "          date      time                                           filepath  \\\n",
       "0   2022-05-06  14:43:28  N:Sean O'Rourke\\LisaRose E22\\2.0 Performance A...   \n",
       "1   2022-05-06  14:44:35  N:Sean O'Rourke\\LisaRose E22\\2.0 Performance A...   \n",
       "2   2022-05-06  14:45:01  N:Sean O'Rourke\\LisaRose E22\\2.0 Performance A...   \n",
       "3   2022-05-06  14:45:05  N:Sean O'Rourke\\LisaRose E22\\2.0 Performance A...   \n",
       "4   2022-05-06  14:46:26  N:Sean O'Rourke\\LisaRose E22\\2.0 Performance A...   \n",
       "5   2022-05-06  14:46:47  N:Sean O'Rourke\\LisaRose E22\\2.0 Performance A...   \n",
       "6   2022-05-06  14:55:25  N:Sean O'Rourke\\LisaRose E22\\2.0 Performance A...   \n",
       "7   2022-05-06  14:55:40  N:Sean O'Rourke\\LisaRose E22\\2.0 Performance A...   \n",
       "8   2022-05-06  14:55:47  N:Sean O'Rourke\\LisaRose E22\\2.0 Performance A...   \n",
       "9   2022-05-06  14:55:48  N:Sean O'Rourke\\LisaRose E22\\2.0 Performance A...   \n",
       "10  2022-05-06  14:55:52  N:Sean O'Rourke\\LisaRose E22\\2.0 Performance A...   \n",
       "11  2022-05-06  15:16:39  N:Sean O'Rourke\\LisaRose E22\\2.0 Performance A...   \n",
       "12  2022-05-06  15:17:52  N:Sean O'Rourke\\LisaRose E22\\2.0 Performance A...   \n",
       "13  2022-05-06  15:18:24  N:Sean O'Rourke\\LisaRose E22\\2.0 Performance A...   \n",
       "14  2022-05-06  15:18:27  N:Sean O'Rourke\\LisaRose E22\\2.0 Performance A...   \n",
       "15  2022-05-06  15:20:41  N:Sean O'Rourke\\LisaRose E22\\2.0 Performance A...   \n",
       "16  2022-05-06  15:21:16  N:Sean O'Rourke\\LisaRose E22\\2.0 Performance A...   \n",
       "17  2022-05-06  15:21:17  N:Sean O'Rourke\\LisaRose E22\\2.0 Performance A...   \n",
       "18  2022-05-06  15:21:18  N:Sean O'Rourke\\LisaRose E22\\2.0 Performance A...   \n",
       "19  2022-05-06  15:21:34  N:Sean O'Rourke\\LisaRose E22\\2.0 Performance A...   \n",
       "20  2022-05-06  15:21:56  N:Sean O'Rourke\\LisaRose E22\\2.0 Performance A...   \n",
       "\n",
       "               file  \n",
       "0   coach (32).jpeg  \n",
       "1   coach (33).jpeg  \n",
       "2   coach (34).jpeg  \n",
       "3   coach (35).jpeg  \n",
       "4   coach (36).jpeg  \n",
       "5   coach (37).jpeg  \n",
       "6   coach (38).jpeg  \n",
       "7   coach (39).jpeg  \n",
       "8   coach (40).jpeg  \n",
       "9   coach (41).jpeg  \n",
       "10  coach (42).jpeg  \n",
       "11  coach (43).jpeg  \n",
       "12  coach (44).jpeg  \n",
       "13  coach (45).jpeg  \n",
       "14  coach (46).jpeg  \n",
       "15  coach (47).jpeg  \n",
       "16  coach (48).jpeg  \n",
       "17  coach (49).jpeg  \n",
       "18  coach (50).jpeg  \n",
       "19  coach (51).jpeg  \n",
       "20  coach (52).jpeg  "
      ]
     },
     "execution_count": 10,
     "metadata": {},
     "output_type": "execute_result"
    }
   ],
   "source": [
    "dets_df"
   ]
  },
  {
   "cell_type": "code",
   "execution_count": 15,
   "metadata": {
    "pycharm": {
     "name": "#%%\n"
    }
   },
   "outputs": [],
   "source": [
    "time_list = dets_df.time"
   ]
  },
  {
   "cell_type": "code",
   "execution_count": 16,
   "metadata": {
    "pycharm": {
     "name": "#%%\n"
    }
   },
   "outputs": [
    {
     "data": {
      "text/plain": [
       "0     14:43:28\n",
       "1     14:44:35\n",
       "2     14:45:01\n",
       "3     14:45:05\n",
       "4     14:46:26\n",
       "5     14:46:47\n",
       "6     14:55:25\n",
       "7     14:55:40\n",
       "8     14:55:47\n",
       "9     14:55:48\n",
       "10    14:55:52\n",
       "11    15:16:39\n",
       "12    15:17:52\n",
       "13    15:18:24\n",
       "14    15:18:27\n",
       "15    15:20:41\n",
       "16    15:21:16\n",
       "17    15:21:17\n",
       "18    15:21:18\n",
       "19    15:21:34\n",
       "20    15:21:56\n",
       "Name: time, dtype: object"
      ]
     },
     "execution_count": 16,
     "metadata": {},
     "output_type": "execute_result"
    }
   ],
   "source": [
    "time_list"
   ]
  },
  {
   "cell_type": "code",
   "execution_count": 18,
   "metadata": {
    "pycharm": {
     "name": "#%%\n"
    }
   },
   "outputs": [
    {
     "ename": "TypeError",
     "evalue": "unsupported operand type(s) for -: 'datetime.time' and 'datetime.time'",
     "output_type": "error",
     "traceback": [
      "\u001b[1;31m---------------------------------------------------------------------------\u001b[0m",
      "\u001b[1;31mTypeError\u001b[0m                                 Traceback (most recent call last)",
      "Input \u001b[1;32mIn [18]\u001b[0m, in \u001b[0;36m<cell line: 1>\u001b[1;34m()\u001b[0m\n\u001b[1;32m----> 1\u001b[0m \u001b[43mtime_list\u001b[49m\u001b[43m[\u001b[49m\u001b[38;5;241;43m0\u001b[39;49m\u001b[43m]\u001b[49m\u001b[43m \u001b[49m\u001b[38;5;241;43m-\u001b[39;49m\u001b[43m \u001b[49m\u001b[43mtime_list\u001b[49m\u001b[43m[\u001b[49m\u001b[38;5;241;43m1\u001b[39;49m\u001b[43m]\u001b[49m\n",
      "\u001b[1;31mTypeError\u001b[0m: unsupported operand type(s) for -: 'datetime.time' and 'datetime.time'"
     ]
    }
   ],
   "source": [
    "time_list[0] - time_list[1]"
   ]
  },
  {
   "cell_type": "code",
   "execution_count": null,
   "metadata": {
    "pycharm": {
     "name": "#%%\n"
    }
   },
   "outputs": [],
   "source": []
  }
 ],
 "metadata": {
  "kernelspec": {
   "display_name": "Python 3 (ipykernel)",
   "language": "python",
   "name": "python3"
  },
  "language_info": {
   "codemirror_mode": {
    "name": "ipython",
    "version": 3
   },
   "file_extension": ".py",
   "mimetype": "text/x-python",
   "name": "python",
   "nbconvert_exporter": "python",
   "pygments_lexer": "ipython3",
   "version": "3.10.4"
  }
 },
 "nbformat": 4,
 "nbformat_minor": 1
}
